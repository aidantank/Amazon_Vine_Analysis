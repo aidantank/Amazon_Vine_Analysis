{
  "cells": [
    {
      "cell_type": "code",
      "execution_count": 1,
      "metadata": {
        "colab": {
          "base_uri": "https://localhost:8080/"
        },
        "id": "enTCfaPIJs0e",
        "outputId": "b05ae628-50ca-4f90-b936-5c74fe21f007"
      },
      "outputs": [
        {
          "name": "stdout",
          "output_type": "stream",
          "text": [
            "\r0% [Working]\r            \rIgn:1 https://developer.download.nvidia.com/compute/machine-learning/repos/ubuntu1804/x86_64  InRelease\n",
            "\r0% [Connecting to archive.ubuntu.com (185.125.190.39)] [Connecting to security.\r                                                                               \rGet:2 https://developer.download.nvidia.com/compute/cuda/repos/ubuntu1804/x86_64  InRelease [1,581 B]\n",
            "\r0% [Connecting to archive.ubuntu.com (185.125.190.39)] [Connecting to security.\r0% [Connecting to archive.ubuntu.com (185.125.190.39)] [Connecting to security.\r                                                                               \rGet:3 https://cloud.r-project.org/bin/linux/ubuntu bionic-cran40/ InRelease [3,626 B]\n",
            "Hit:4 https://developer.download.nvidia.com/compute/machine-learning/repos/ubuntu1804/x86_64  Release\n",
            "Hit:5 http://archive.ubuntu.com/ubuntu bionic InRelease\n",
            "Hit:6 http://ppa.launchpad.net/c2d4u.team/c2d4u4.0+/ubuntu bionic InRelease\n",
            "Get:7 http://security.ubuntu.com/ubuntu bionic-security InRelease [88.7 kB]\n",
            "Get:8 http://archive.ubuntu.com/ubuntu bionic-updates InRelease [88.7 kB]\n",
            "Get:9 https://developer.download.nvidia.com/compute/cuda/repos/ubuntu1804/x86_64  Packages [913 kB]\n",
            "Hit:10 http://ppa.launchpad.net/cran/libgit2/ubuntu bionic InRelease\n",
            "Get:11 http://archive.ubuntu.com/ubuntu bionic-backports InRelease [83.3 kB]\n",
            "Hit:12 http://ppa.launchpad.net/deadsnakes/ppa/ubuntu bionic InRelease\n",
            "Get:13 http://ppa.launchpad.net/graphics-drivers/ppa/ubuntu bionic InRelease [21.3 kB]\n",
            "Get:15 http://archive.ubuntu.com/ubuntu bionic-updates/main amd64 Packages [3,422 kB]\n",
            "Get:16 http://security.ubuntu.com/ubuntu bionic-security/main amd64 Packages [2,990 kB]\n",
            "Get:17 http://archive.ubuntu.com/ubuntu bionic-updates/universe amd64 Packages [2,323 kB]\n",
            "Get:18 http://security.ubuntu.com/ubuntu bionic-security/universe amd64 Packages [1,546 kB]\n",
            "Get:19 http://ppa.launchpad.net/graphics-drivers/ppa/ubuntu bionic/main amd64 Packages [48.3 kB]\n",
            "Fetched 11.5 MB in 6s (2,010 kB/s)\n",
            "Reading package lists... Done\n"
          ]
        }
      ],
      "source": [
        "import os\n",
        "# Find the latest version of spark 3.0 from http://www.apache.org/dist/spark/ and enter as the spark version\n",
        "# For example:\n",
        "# spark_version = 'spark-3.2.2'\n",
        "spark_version = 'spark-3.2.2'\n",
        "os.environ['SPARK_VERSION']=spark_version\n",
        "\n",
        "# Install Spark and Java\n",
        "!apt-get update\n",
        "!apt-get install openjdk-11-jdk-headless -qq > /dev/null\n",
        "!wget -q http://www.apache.org/dist/spark/$SPARK_VERSION/$SPARK_VERSION-bin-hadoop2.7.tgz\n",
        "!tar xf $SPARK_VERSION-bin-hadoop2.7.tgz\n",
        "!pip install -q findspark\n",
        "\n",
        "# Set Environment Variables\n",
        "import os\n",
        "os.environ[\"JAVA_HOME\"] = \"/usr/lib/jvm/java-11-openjdk-amd64\"\n",
        "os.environ[\"SPARK_HOME\"] = f\"/content/{spark_version}-bin-hadoop2.7\"\n",
        "\n",
        "# Start a SparkSession\n",
        "import findspark\n",
        "findspark.init()"
      ]
    },
    {
      "cell_type": "code",
      "execution_count": 2,
      "metadata": {
        "id": "RK6H1OHlLP1t"
      },
      "outputs": [],
      "source": [
        "# Make spark session\n",
        "from pyspark.sql import SparkSession\n",
        "spark = SparkSession.builder.appName(\"Vine_Review_Analysis\").getOrCreate()"
      ]
    },
    {
      "cell_type": "code",
      "execution_count": 3,
      "metadata": {
        "id": "F0EDhHO7LZN0"
      },
      "outputs": [],
      "source": [
        "from pyspark import SparkFiles\n",
        "url = \"https://s3.amazonaws.com/amazon-reviews-pds/tsv/amazon_reviews_us_Outdoors_v1_00.tsv.gz\"\n",
        "spark.sparkContext.addFile(url)\n",
        "df = spark.read.option(\"encoding\", \"UTF-8\").csv(SparkFiles.get(\"\"), sep=\"\\t\", header=True, inferSchema=True)"
      ]
    },
    {
      "cell_type": "code",
      "execution_count": 4,
      "metadata": {
        "id": "TtNLa2_wLef7"
      },
      "outputs": [],
      "source": [
        "# Create the vine_table. DataFrame\n",
        "vine_df = df.select([\"review_id\", \"star_rating\", \"helpful_votes\", \"total_votes\", \"vine\", \"verified_purchase\"])"
      ]
    },
    {
      "cell_type": "code",
      "execution_count": 6,
      "metadata": {
        "id": "C-4rVNhULoRI"
      },
      "outputs": [],
      "source": [
        "# Deliverable 2 Q1\n",
        "# Filter Data and create new DataFrame to retrieve all rows where total_votes count is equal to 20 or greater.\n",
        "vine_df_q1 = vine_df.filter(\"total_votes>=20\")"
      ]
    },
    {
      "cell_type": "code",
      "execution_count": 12,
      "metadata": {
        "id": "zhtWWbbXL_gC"
      },
      "outputs": [],
      "source": [
        "# Deliverable 2 Q2\n",
        "# Retrieve all rows where the number of helpful_votes divided by total_votes is equal to or greater than 50%\n",
        "vine_df_q2 = vine_df_q1.filter(vine_df_q1[\"helpful_votes\"]/vine_df_q1[\"total_votes\"] >= 0.5)"
      ]
    },
    {
      "cell_type": "code",
      "execution_count": 27,
      "metadata": {
        "id": "9tFYFZWkNdub"
      },
      "outputs": [],
      "source": [
        "# Deliverable 2 Q3 & Q4\n",
        "# Retrieve all rows where vine == 'Y' and where vine == 'N'\n",
        "vine_paid_df = vine_df_q2.filter(vine_df_q2[\"vine\"]==\"Y\")\n",
        "vine_unpaid_df = vine_df_q2.filter(vine_df_q2[\"vine\"]==\"N\")"
      ]
    },
    {
      "cell_type": "code",
      "execution_count": 24,
      "metadata": {
        "colab": {
          "base_uri": "https://localhost:8080/"
        },
        "id": "O3isWTkeOFei",
        "outputId": "f553f955-2ffc-4236-ce28-18da411dcaaf"
      },
      "outputs": [
        {
          "name": "stdout",
          "output_type": "stream",
          "text": [
            "\n",
            "The total number of reviews for the vine program is: 107\n",
            "The total number of 5 star reviews for the vine program is: 56\n",
            "The percentage of 5 star reviews for the vine program is: %52.34\n",
            "\n"
          ]
        }
      ],
      "source": [
        "# Deliverable 2 Q5\n",
        "# Determine total number of reviews, number of 5 star reviews, and percentage of 5 star reviews per paid vs unpaid\n",
        "\n",
        "# Vine Program\n",
        "count_paid = vine_paid_df.count()\n",
        "five_star_paid = vine_paid_df.filter(\"star_rating==5\").count()\n",
        "percent_five_star_paid = (five_star_paid / count_paid) * 100\n",
        "print(f'''\n",
        "The total number of reviews for the vine program is: {count_paid}\n",
        "The total number of 5 star reviews for the vine program is: {five_star_paid}\n",
        "The percentage of 5 star reviews for the vine program is: %{percent_five_star_paid:.2f}\n",
        "''')"
      ]
    },
    {
      "cell_type": "code",
      "execution_count": 26,
      "metadata": {
        "colab": {
          "base_uri": "https://localhost:8080/"
        },
        "id": "yh93DhWqR7Hn",
        "outputId": "63abedf9-3fe9-42d4-a21b-1895083ba9c6"
      },
      "outputs": [
        {
          "name": "stdout",
          "output_type": "stream",
          "text": [
            "\n",
            "The total number of reviews not in the vine program is: 39869\n",
            "The total number of 5 star reviews not in the vine program is: 21005\n",
            "The percentage of 5 star reviews not in the vine program is: %52.69\n",
            "\n"
          ]
        }
      ],
      "source": [
        "# Not in the vine program\n",
        "count_unpaid = vine_unpaid_df.count()\n",
        "five_star_unpaid = vine_unpaid_df.filter(\"star_rating==5\").count()\n",
        "percent_five_star_unpaid = (five_star_unpaid / count_unpaid) * 100\n",
        "print(f'''\n",
        "The total number of reviews not in the vine program is: {count_unpaid}\n",
        "The total number of 5 star reviews not in the vine program is: {five_star_unpaid}\n",
        "The percentage of 5 star reviews not in the vine program is: %{percent_five_star_unpaid:.2f}\n",
        "''')\n"
      ]
    }
  ],
  "metadata": {
    "colab": {
      "collapsed_sections": [],
      "provenance": []
    },
    "kernelspec": {
      "display_name": "Python 3.7.6 64-bit",
      "language": "python",
      "name": "python3"
    },
    "language_info": {
      "name": "python",
      "version": "3.7.6"
    },
    "vscode": {
      "interpreter": {
        "hash": "cb3acd2de99eacc5fce8d190e9b507bbd5f44788afc770a509be29c11739e83d"
      }
    }
  },
  "nbformat": 4,
  "nbformat_minor": 0
}
